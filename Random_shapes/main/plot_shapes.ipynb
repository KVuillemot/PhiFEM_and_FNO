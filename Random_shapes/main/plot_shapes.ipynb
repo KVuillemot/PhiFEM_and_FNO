{
 "cells": [
  {
   "cell_type": "code",
   "execution_count": null,
   "metadata": {},
   "outputs": [],
   "source": [
    "import numpy as np\n",
    "import matplotlib.pyplot as plt\n",
    "import random\n",
    "import os\n",
    "import torch \n",
    "\n",
    "seed = 2023\n",
    "random.seed(seed)\n",
    "torch.manual_seed(seed)\n",
    "np.random.seed(seed)\n",
    "os.environ[\"PYTHONHASHSEED\"] = str(seed)\n",
    "import dolfin as df\n",
    "import time\n",
    "from utils import *\n",
    "from utils_training import *\n",
    "import prepare_data\n",
    "from utils_compare_methods import *\n",
    "import seaborn as sns\n",
    "from mpl_toolkits.axes_grid1 import make_axes_locatable\n",
    "import pandas as pd\n",
    "import gc\n",
    "\n",
    "sns.set_theme()\n",
    "sns.set_context(\"paper\")\n",
    "colors = sns.color_palette(\"mako\").as_hex()\n",
    "my_cmap = sns.color_palette(\"viridis\", as_cmap=True)\n",
    "\n",
    "%load_ext autoreload\n",
    "%autoreload 2\n"
   ]
  },
  {
   "cell_type": "code",
   "execution_count": null,
   "metadata": {},
   "outputs": [],
   "source": [
    "def plot_domain(i):\n",
    "    phi = np.load(\"../data_reduced/Phi.npy\")[i, :, :]\n",
    "    domain = phi <= 3e-16\n",
    "    plt.figure(figsize=(6, 3))\n",
    "    ax1 = plt.subplot(121)\n",
    "    img = plt.imshow(phi, cmap=\"RdBu\", origin=\"lower\")\n",
    "    divider = make_axes_locatable(ax1)\n",
    "    cax = divider.append_axes(\"bottom\", size=\"5%\", pad=0.3)\n",
    "    ax1.grid(False)\n",
    "    ax1.set_xticks([])\n",
    "    ax1.set_xticks([])\n",
    "    ax1.set_title(r\"$\\phi_h$\", fontsize=15)\n",
    "    plt.colorbar(img, cax=cax, orientation=\"horizontal\")\n",
    "\n",
    "    ax2 = plt.subplot(122)\n",
    "    img = plt.imshow(domain, cmap=\"RdBu\", vmin=-1.5, vmax=1.45, origin=\"lower\")\n",
    "    divider = make_axes_locatable(ax2)\n",
    "    cax = divider.append_axes(\"bottom\", size=\"5%\", pad=0.3)\n",
    "    ax2.grid(False)\n",
    "    ax2.set_xticks([])\n",
    "    ax2.set_xticks([])\n",
    "    ax2.set_title(r\"$\\Omega_h = \\{\\phi_h <0 \\}$\", fontsize=15)\n",
    "    plt.colorbar(img, cax=cax, orientation=\"horizontal\")\n",
    "    plt.savefig(f\"./images/level_set_domains_{i}.pdf\")\n",
    "    plt.show()"
   ]
  },
  {
   "cell_type": "code",
   "execution_count": null,
   "metadata": {},
   "outputs": [],
   "source": [
    "indices = [39, 965, 216, 241]\n",
    "print(indices)\n",
    "for i in indices:\n",
    "    plot_domain(i)"
   ]
  }
 ],
 "metadata": {
  "kernelspec": {
   "display_name": "fenics_torch",
   "language": "python",
   "name": "python3"
  },
  "language_info": {
   "codemirror_mode": {
    "name": "ipython",
    "version": 3
   },
   "file_extension": ".py",
   "mimetype": "text/x-python",
   "name": "python",
   "nbconvert_exporter": "python",
   "pygments_lexer": "ipython3",
   "version": "3.11.6"
  }
 },
 "nbformat": 4,
 "nbformat_minor": 2
}
