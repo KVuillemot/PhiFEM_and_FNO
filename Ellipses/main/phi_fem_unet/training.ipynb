{
 "cells": [
  {
   "cell_type": "code",
   "execution_count": 1,
   "metadata": {},
   "outputs": [],
   "source": [
    "import numpy as np\n",
    "import matplotlib.pyplot as plt\n",
    "import random\n",
    "import os\n",
    "\n",
    "seed = 221024\n",
    "random.seed(seed)\n",
    "np.random.seed(seed)\n",
    "import dolfinx as dfx\n",
    "import time\n",
    "from utils import *\n",
    "from utils_training import *\n",
    "from utils_compare_methods import *\n",
    "import prepare_data\n",
    "import seaborn as sns\n",
    "from mpl_toolkits.axes_grid1 import make_axes_locatable\n",
    "import pandas as pd\n",
    "import torch\n",
    "import gc\n",
    "\n",
    "torch.manual_seed(seed)\n",
    "\n",
    "sns.set_theme(\"paper\", rc={\"xtick.bottom\": True, \"ytick.left\": True})\n",
    "colors = sns.color_palette(\"mako\").as_hex()\n",
    "my_cmap = sns.color_palette(\"viridis\", as_cmap=True)\n",
    "\n",
    "%load_ext autoreload\n",
    "%autoreload 2"
   ]
  },
  {
   "cell_type": "code",
   "execution_count": null,
   "metadata": {},
   "outputs": [],
   "source": [
    "data = DataLoader(False)\n",
    "\n",
    "training_agent = Agent(data, l2_lambda=1e-7, initial_lr=5e-4, level=1)\n",
    "print(\n",
    "    f\"(level, relative, squared, initial_lr, n_modes, width, batch_size, l2_lambda, pad_prop, pad_mode) = \"\n",
    "    + f\"{(training_agent.level, training_agent.relative, training_agent.squared, training_agent.initial_lr, training_agent.n_modes, training_agent.width, training_agent.batch_size, training_agent.l2_lambda, training_agent.pad_prop, training_agent.pad_mode)} \\n\"\n",
    ")\n",
    "nb_epochs = 2000\n",
    "start_training = time.time()\n",
    "training_agent.train(nb_epochs, models_repo=\"./models\")\n",
    "end_training = time.time()\n",
    "time_training = end_training - start_training\n",
    "print(\n",
    "    f\"Total time to train the operator : {time_training:.3f}s. Average time : {time_training/nb_epochs:.3f}s.\"\n",
    ")\n",
    "training_agent.plot_losses(models_repo=\"./models\")"
   ]
  },
  {
   "cell_type": "code",
   "execution_count": null,
   "metadata": {},
   "outputs": [],
   "source": []
  }
 ],
 "metadata": {
  "kernelspec": {
   "display_name": "fenicsx_torch",
   "language": "python",
   "name": "python3"
  },
  "language_info": {
   "codemirror_mode": {
    "name": "ipython",
    "version": 3
   },
   "file_extension": ".py",
   "mimetype": "text/x-python",
   "name": "python",
   "nbconvert_exporter": "python",
   "pygments_lexer": "ipython3",
   "version": "3.12.6"
  }
 },
 "nbformat": 4,
 "nbformat_minor": 2
}
