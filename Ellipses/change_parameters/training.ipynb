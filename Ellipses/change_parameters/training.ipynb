{
 "cells": [
  {
   "attachments": {},
   "cell_type": "markdown",
   "metadata": {},
   "source": [
    "Apprentissage de données $\\phi$-FEM"
   ]
  },
  {
   "cell_type": "code",
   "execution_count": null,
   "metadata": {},
   "outputs": [],
   "source": [
    "import numpy as np\n",
    "import matplotlib.pyplot as plt\n",
    "import random\n",
    "import os\n",
    "\n",
    "os.environ[\"TF_CPP_MIN_LOG_LEVEL\"] = \"2\"\n",
    "import tensorflow as tf\n",
    "\n",
    "seed = 2023\n",
    "random.seed(seed)\n",
    "np.random.seed(seed)\n",
    "tf.random.set_seed(seed)\n",
    "tf.experimental.numpy.random.seed(seed)\n",
    "os.environ[\"TF_CUDNN_DETERMINISTIC\"] = \"1\"\n",
    "os.environ[\"TF_DETERMINISTIC_OPS\"] = \"1\"\n",
    "# Set a fixed value for the hash seed\n",
    "os.environ[\"PYTHONHASHSEED\"] = str(seed)\n",
    "import dolfin as df\n",
    "import time\n",
    "from utils import *\n",
    "from utils_training import *\n",
    "\n",
    "import seaborn as sns\n",
    "\n",
    "sns.set_theme()\n",
    "sns.set_context(\"paper\")\n",
    "sns.set(rc={\"xtick.bottom\": True, \"ytick.left\": True})\n",
    "colors = sns.color_palette(\"mako\").as_hex()\n",
    "my_cmap = sns.color_palette(\"viridis\", as_cmap=True)"
   ]
  },
  {
   "attachments": {},
   "cell_type": "markdown",
   "metadata": {},
   "source": [
    "# Run"
   ]
  },
  {
   "cell_type": "code",
   "execution_count": null,
   "metadata": {},
   "outputs": [],
   "source": [
    "nb_layers = [4, 5, 6]\n",
    "width = [10, 20, 50, 100]\n",
    "modes = [5, 10, 20, 25]\n",
    "levels = [0, 1, 2]\n",
    "\n",
    "params = np.array(np.meshgrid(nb_layers, width, modes)).T.reshape(-1, 3)\n",
    "new_params = np.zeros((np.shape(params)[0] * 3, 4))\n",
    "for i in range(3):\n",
    "    new_params[\n",
    "        np.shape(params)[0] * (i) : np.shape(params)[0] * (i + 1), :3\n",
    "    ] = params[:, :]\n",
    "    new_params[\n",
    "        np.shape(params)[0] * (i) : np.shape(params)[0] * (i + 1), 3\n",
    "    ] = i\n",
    "np.save(\"./params.npy\", new_params)\n",
    "params = np.load(\"./params.npy\")\n",
    "print(np.shape(params))"
   ]
  },
  {
   "cell_type": "code",
   "execution_count": null,
   "metadata": {},
   "outputs": [],
   "source": [
    "small_data = False\n",
    "data = DataLoader(small_data)\n"
   ]
  },
  {
   "cell_type": "code",
   "execution_count": null,
   "metadata": {},
   "outputs": [],
   "source": [
    "index = 0\n",
    "for param in new_params[index:]:\n",
    "    print(f\"{index}/{len(new_params)}\")\n",
    "    nb_layer, width_i, modes_i, level = param\n",
    "    nb_layer, width_i, modes_i, level = (\n",
    "        int(nb_layer),\n",
    "        int(width_i),\n",
    "        int(modes_i),\n",
    "        int(level),\n",
    "    )\n",
    "    agent = Agent(\n",
    "        data,\n",
    "        small_data,\n",
    "        width=width_i,\n",
    "        modes=modes_i,\n",
    "        nb_layers=nb_layer,\n",
    "        index_test_case=index,\n",
    "    )\n",
    "    epochs = 202\n",
    "    ti0 = time.time()\n",
    "    agent.train(level, epochs)\n",
    "    duration = time.time() - ti0\n",
    "    print(\"average time per epoch :\", duration / epochs)\n",
    "    index += 1"
   ]
  },
  {
   "cell_type": "code",
   "execution_count": null,
   "metadata": {},
   "outputs": [],
   "source": []
  },
  {
   "cell_type": "code",
   "execution_count": null,
   "metadata": {},
   "outputs": [],
   "source": []
  }
 ],
 "metadata": {
  "kernelspec": {
   "display_name": "Python 3",
   "language": "python",
   "name": "python3"
  },
  "language_info": {
   "codemirror_mode": {
    "name": "ipython",
    "version": 3
   },
   "file_extension": ".py",
   "mimetype": "text/x-python",
   "name": "python",
   "nbconvert_exporter": "python",
   "pygments_lexer": "ipython3",
   "version": "3.8.10"
  },
  "orig_nbformat": 4
 },
 "nbformat": 4,
 "nbformat_minor": 2
}
