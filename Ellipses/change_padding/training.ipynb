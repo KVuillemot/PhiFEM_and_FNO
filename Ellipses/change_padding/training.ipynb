{
 "cells": [
  {
   "attachments": {},
   "cell_type": "markdown",
   "metadata": {},
   "source": [
    "Apprentissage de données $\\phi$-FEM"
   ]
  },
  {
   "cell_type": "code",
   "execution_count": null,
   "metadata": {},
   "outputs": [],
   "source": [
    "import numpy as np\n",
    "import matplotlib.pyplot as plt\n",
    "import random\n",
    "import os\n",
    "\n",
    "os.environ[\"TF_CPP_MIN_LOG_LEVEL\"] = \"2\"\n",
    "import tensorflow as tf\n",
    "\n",
    "seed = 2023\n",
    "random.seed(seed)\n",
    "np.random.seed(seed)\n",
    "tf.random.set_seed(seed)\n",
    "tf.experimental.numpy.random.seed(seed)\n",
    "os.environ[\"TF_CUDNN_DETERMINISTIC\"] = \"1\"\n",
    "os.environ[\"TF_DETERMINISTIC_OPS\"] = \"1\"\n",
    "# Set a fixed value for the hash seed\n",
    "os.environ[\"PYTHONHASHSEED\"] = str(seed)\n",
    "import dolfin as df\n",
    "import time\n",
    "from utils import *\n",
    "from utils_training import *\n",
    "\n",
    "import seaborn as sns\n",
    "\n",
    "sns.set_theme()\n",
    "sns.set_context(\"paper\")\n",
    "sns.set(rc={\"xtick.bottom\": True, \"ytick.left\": True})\n",
    "colors = sns.color_palette(\"mako\").as_hex()\n",
    "my_cmap = sns.color_palette(\"viridis\", as_cmap=True)\n"
   ]
  },
  {
   "attachments": {},
   "cell_type": "markdown",
   "metadata": {},
   "source": [
    "# Run"
   ]
  },
  {
   "cell_type": "code",
   "execution_count": null,
   "metadata": {},
   "outputs": [],
   "source": [
    "pad_mode = [0, 1]  # 0 : constant, 1 : Reflect\n",
    "padding_size = [0.025, 0.05, 0.1]\n",
    "params = np.array(np.meshgrid(pad_mode, padding_size)).T.reshape(-1, 2)\n",
    "params_tmp = np.zeros((np.shape(params)[0] + 1, np.shape(params)[1]))\n",
    "params_tmp[1:, :] = params\n",
    "params = params_tmp\n",
    "reduced_params = params[:, :]\n",
    "params = reduced_params\n",
    "np.save(\"./params.npy\", params)\n",
    "params = np.load(\"./params.npy\")\n",
    "print(params)\n"
   ]
  },
  {
   "cell_type": "code",
   "execution_count": null,
   "metadata": {},
   "outputs": [],
   "source": [
    "small_data = False\n",
    "data = DataLoader(small_data)\n",
    "level = 2"
   ]
  },
  {
   "cell_type": "code",
   "execution_count": null,
   "metadata": {},
   "outputs": [],
   "source": [
    "index = 0\n",
    "for param in params:\n",
    "    mode, pad_size = param\n",
    "    print(f\"{index}/{len(params)}  {(mode, pad_size)=} \")\n",
    "    if mode == 0:\n",
    "        mode = \"CONSTANT\"\n",
    "    elif mode == 1:\n",
    "        mode = \"REFLECT\"\n",
    "    agent = Agent(\n",
    "        data,\n",
    "        small_data,\n",
    "        width=20,\n",
    "        modes=10,\n",
    "        nb_layers=4,\n",
    "        pad_prop=pad_size,\n",
    "        pad_mode=mode,\n",
    "        index_test_case=index,\n",
    "        loss_level=2,\n",
    "    )\n",
    "    epochs = 202\n",
    "    ti0 = time.time()\n",
    "    agent.train(epochs)\n",
    "    duration = time.time() - ti0\n",
    "    print(\"average time per epoch :\", duration / epochs)\n",
    "    index += 1\n"
   ]
  },
  {
   "cell_type": "code",
   "execution_count": null,
   "metadata": {},
   "outputs": [],
   "source": []
  }
 ],
 "metadata": {
  "kernelspec": {
   "display_name": "Python 3",
   "language": "python",
   "name": "python3"
  },
  "language_info": {
   "codemirror_mode": {
    "name": "ipython",
    "version": 3
   },
   "file_extension": ".py",
   "mimetype": "text/x-python",
   "name": "python",
   "nbconvert_exporter": "python",
   "pygments_lexer": "ipython3",
   "version": "3.8.10"
  },
  "orig_nbformat": 4
 },
 "nbformat": 4,
 "nbformat_minor": 2
}
