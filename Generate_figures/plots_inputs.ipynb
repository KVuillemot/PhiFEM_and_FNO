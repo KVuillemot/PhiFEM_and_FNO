{
 "cells": [
  {
   "cell_type": "code",
   "execution_count": 4,
   "metadata": {},
   "outputs": [
    {
     "name": "stdout",
     "output_type": "stream",
     "text": [
      "The autoreload extension is already loaded. To reload it, use:\n",
      "  %reload_ext autoreload\n"
     ]
    }
   ],
   "source": [
    "import numpy as np\n",
    "import matplotlib.pyplot as plt\n",
    "import random\n",
    "import os\n",
    "import dolfin as df\n",
    "import time\n",
    "import seaborn as sns\n",
    "from mpl_toolkits.axes_grid1 import make_axes_locatable\n",
    "import pandas as pd\n",
    "import gc\n",
    "\n",
    "sns.set_theme()\n",
    "sns.set_context(\"paper\")\n",
    "colors = sns.color_palette(\"mako\").as_hex()\n",
    "my_cmap = sns.color_palette(\"viridis\", as_cmap=True)\n",
    "\n",
    "%load_ext autoreload\n",
    "%autoreload 2\n"
   ]
  },
  {
   "cell_type": "code",
   "execution_count": 5,
   "metadata": {},
   "outputs": [],
   "source": [
    "def save_image(data, filename):\n",
    "    fig = plt.figure(figsize=(6, 6))\n",
    "    ax = plt.Axes(fig, [0.0, 0.0, 1.0, 1.0])\n",
    "    ax.set_axis_off()\n",
    "    fig.add_axes(ax)\n",
    "    x = np.linspace(0, 1, 64)\n",
    "    ax.contourf(x, x, data, levels=50, cmap=\"viridis\")\n",
    "    fig.savefig(filename, dpi=data.shape[0])\n",
    "    plt.close(fig)"
   ]
  },
  {
   "cell_type": "code",
   "execution_count": 6,
   "metadata": {},
   "outputs": [],
   "source": [
    "F = np.load(\"./data/F.npy\")\n",
    "Phi = np.load(\"./data/Phi.npy\")\n",
    "G = np.load(\"./data/G.npy\")\n",
    "W = np.load(\"./data/W.npy\")\n",
    "\n",
    "U = Phi * W + G\n",
    "chosen_index = 5\n",
    "save_image(F[chosen_index, :, :], \"F.png\")\n",
    "save_image(G[chosen_index, :, :], \"G.png\")\n",
    "save_image(Phi[chosen_index, :, :], \"Phi.png\")\n",
    "save_image(W[chosen_index, :, :], \"W.png\")\n",
    "\n",
    "save_image(U[chosen_index, :, :], \"U_full.png\")\n",
    "\n",
    "domains = Phi[chosen_index, :, :] <= 3e-16\n",
    "save_image(domains, \"domain.png\")\n",
    "domains_tmp = domains.flatten()\n",
    "domains_nan = domains.copy().flatten().astype(float)\n",
    "domains_nan[np.where(domains_tmp == False)] = np.nan\n",
    "domains_nan = np.reshape(domains_nan, domains.shape)\n",
    "sol = U[chosen_index, :, :] * domains_nan\n",
    "save_image(sol, \"U.png\")"
   ]
  },
  {
   "cell_type": "code",
   "execution_count": null,
   "metadata": {},
   "outputs": [],
   "source": []
  }
 ],
 "metadata": {
  "kernelspec": {
   "display_name": "fenics_torch",
   "language": "python",
   "name": "python3"
  },
  "language_info": {
   "codemirror_mode": {
    "name": "ipython",
    "version": 3
   },
   "file_extension": ".py",
   "mimetype": "text/x-python",
   "name": "python",
   "nbconvert_exporter": "python",
   "pygments_lexer": "ipython3",
   "version": "3.11.6"
  }
 },
 "nbformat": 4,
 "nbformat_minor": 2
}
